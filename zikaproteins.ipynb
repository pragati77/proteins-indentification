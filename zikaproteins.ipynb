{
  "nbformat": 4,
  "nbformat_minor": 0,
  "metadata": {
    "colab": {
      "name": "zikaproteins.ipynb",
      "provenance": [],
      "collapsed_sections": [],
      "toc_visible": true,
      "authorship_tag": "ABX9TyPGyDESRDWv2hbC0Ny5v4de",
      "include_colab_link": true
    },
    "kernelspec": {
      "name": "python3",
      "display_name": "Python 3"
    }
  },
  "cells": [
    {
      "cell_type": "markdown",
      "metadata": {
        "id": "view-in-github",
        "colab_type": "text"
      },
      "source": [
        "<a href=\"https://colab.research.google.com/github/pragati77/proteins-indentification/blob/main/zikaproteins.ipynb\" target=\"_parent\"><img src=\"https://colab.research.google.com/assets/colab-badge.svg\" alt=\"Open In Colab\"/></a>"
      ]
    },
    {
      "cell_type": "code",
      "metadata": {
        "id": "vFMlj9nydrDh"
      },
      "source": [
        "import numpy as np # linear algebra\n",
        "import pandas as pd # data processing, CSV file I/O (e.g. pd.read_csv)\n",
        "import matplotlib.pyplot as plt\n",
        "import seaborn as sns\n",
        "import warnings"
      ],
      "execution_count": 1,
      "outputs": []
    },
    {
      "cell_type": "code",
      "metadata": {
        "id": "N_uxNtmVmYL3"
      },
      "source": [
        "warnings.simplefilter(action='ignore')"
      ],
      "execution_count": 2,
      "outputs": []
    },
    {
      "cell_type": "code",
      "metadata": {
        "colab": {
          "base_uri": "https://localhost:8080/"
        },
        "id": "09b24nO0md6w",
        "outputId": "bc5486dc-4fe4-4057-d53a-5de896de648a"
      },
      "source": [
        "pip install biopython\n"
      ],
      "execution_count": 3,
      "outputs": [
        {
          "output_type": "stream",
          "text": [
            "Collecting biopython\n",
            "\u001b[?25l  Downloading https://files.pythonhosted.org/packages/76/02/8b606c4aa92ff61b5eda71d23b499ab1de57d5e818be33f77b01a6f435a8/biopython-1.78-cp36-cp36m-manylinux1_x86_64.whl (2.3MB)\n",
            "\u001b[K     |████████████████████████████████| 2.3MB 6.0MB/s \n",
            "\u001b[?25hRequirement already satisfied: numpy in /usr/local/lib/python3.6/dist-packages (from biopython) (1.18.5)\n",
            "Installing collected packages: biopython\n",
            "Successfully installed biopython-1.78\n"
          ],
          "name": "stdout"
        }
      ]
    },
    {
      "cell_type": "code",
      "metadata": {
        "id": "JQ-nwXGLNdIB"
      },
      "source": [
        "import Bio"
      ],
      "execution_count": 4,
      "outputs": []
    },
    {
      "cell_type": "code",
      "metadata": {
        "id": "2PSNY-U4Nzx-"
      },
      "source": [
        "from Bio.Seq import Seq"
      ],
      "execution_count": 5,
      "outputs": []
    },
    {
      "cell_type": "code",
      "metadata": {
        "id": "2WEGprU1OCoF"
      },
      "source": [
        "from Bio.SeqRecord import SeqRecord\n",
        "from Bio import SeqIO"
      ],
      "execution_count": 6,
      "outputs": []
    },
    {
      "cell_type": "code",
      "metadata": {
        "id": "ppiDX9q9OLLV"
      },
      "source": [
        "zika = SeqIO.read('/content/ZikaVirus.fasta', \"fasta\")"
      ],
      "execution_count": 7,
      "outputs": []
    },
    {
      "cell_type": "code",
      "metadata": {
        "colab": {
          "base_uri": "https://localhost:8080/"
        },
        "id": "WxDvnvrWhehQ",
        "outputId": "736df7eb-2ff0-4a37-c4a8-b45a6763ca1f"
      },
      "source": [
        "print(len(zika))"
      ],
      "execution_count": 8,
      "outputs": [
        {
          "output_type": "stream",
          "text": [
            "10808\n"
          ],
          "name": "stdout"
        }
      ]
    },
    {
      "cell_type": "code",
      "metadata": {
        "colab": {
          "base_uri": "https://localhost:8080/"
        },
        "id": "xOAdbayHkyXV",
        "outputId": "dd3f3c01-7511-4574-eceb-df9df6b5a067"
      },
      "source": [
        "zika_DNA= zika.seq\n",
        "print( zika_DNA[:200])"
      ],
      "execution_count": 9,
      "outputs": [
        {
          "output_type": "stream",
          "text": [
            "AGTTGTTACTGTTGCTGACTCAGACTGCGACAGTTCGAGTTTGAAGCGAAAGCTAGCAACAGTATCAACAGGTTTTATTTTGGATTTGGAAACGAGAGTTTCTGGTCATGAAAAACCCAAAAAAGAAATCCGGAGGATTCCGGATTGTCAATATGCTAAAACGCGGAGTAGCCCGTGTGAGCCCCTTTGGGGGCTTGAAG\n"
          ],
          "name": "stdout"
        }
      ]
    },
    {
      "cell_type": "code",
      "metadata": {
        "colab": {
          "base_uri": "https://localhost:8080/"
        },
        "id": "pV2oi8tzlFr-",
        "outputId": "746ddd25-960d-4eb5-f61b-6dacbd4fb8b2"
      },
      "source": [
        "DNA= zika_DNA\n",
        "nucleotides={}\n",
        "for n in DNA:\n",
        "    if n in nucleotides:\n",
        "        nucleotides[n] += 1\n",
        "    else:\n",
        "        nucleotides[n] =  1\n",
        "print(nucleotides)"
      ],
      "execution_count": 10,
      "outputs": [
        {
          "output_type": "stream",
          "text": [
            "{'A': 2958, 'G': 3152, 'T': 2313, 'C': 2383, 'K': 1, 'Y': 1}\n"
          ],
          "name": "stdout"
        }
      ]
    },
    {
      "cell_type": "code",
      "metadata": {
        "id": "33WJbq53law5"
      },
      "source": [
        "nts= pd.DataFrame(data=nucleotides, index=[0]).T.reset_index()\n",
        "nts= nts.rename(columns={0: 'frequency', 'index': 'nucleotides'})\n",
        "nts=nts.sort_values(by=['frequency'], ascending=True)"
      ],
      "execution_count": 11,
      "outputs": []
    },
    {
      "cell_type": "code",
      "metadata": {
        "colab": {
          "base_uri": "https://localhost:8080/",
          "height": 330
        },
        "id": "vMqSgkx0lkcz",
        "outputId": "c92309c8-82eb-42bd-a92d-557fb0e15d84"
      },
      "source": [
        "#plot the nucleotides frequency\n",
        "import matplotlib.pyplot as plt\n",
        "plt.figure(figsize=(15,4))\n",
        "a= nts['frequency'].plot.bar(color=sns.color_palette('icefire',4), edgecolor='black')\n",
        "plt.xticks(rotation=5)\n",
        "plt.ylabel(\"Nucleotides frequency\", weight='bold')\n",
        "r=list(range(len(nts)))\n",
        "plt.xticks(r, nts.nucleotides, weight='bold')\n",
        "plt.xlabel(\"Nucleotides\", weight='bold', size=20)\n",
        "plt.title(\"zika: Nucleotides\", weight='bold', size=20)\n",
        "plt.show()"
      ],
      "execution_count": 12,
      "outputs": [
        {
          "output_type": "display_data",
          "data": {
            "image/png": "[encoded data removed]",
            "text/plain": [
              "<Figure size 1080x288 with 1 Axes>"
            ]
          },
          "metadata": {
            "tags": [],
            "needs_background": "light"
          }
        }
      ]
    },
    {
      "cell_type": "code",
      "metadata": {
        "colab": {
          "base_uri": "https://localhost:8080/"
        },
        "id": "DXSQwvHppO70",
        "outputId": "3ad530dc-5b54-4edc-d977-242fa019b67c"
      },
      "source": [
        "zika_mRNA = zika_DNA.transcribe()\n",
        "print(zika_mRNA[:100])"
      ],
      "execution_count": 13,
      "outputs": [
        {
          "output_type": "stream",
          "text": [
            "AGUUGUUACUGUUGCUGACUCAGACUGCGACAGUUCGAGUUUGAAGCGAAAGCUAGCAACAGUAUCAACAGGUUUUAUUUUGGAUUUGGAAACGAGAGUU\n"
          ],
          "name": "stdout"
        }
      ]
    },
    {
      "cell_type": "code",
      "metadata": {
        "colab": {
          "base_uri": "https://localhost:8080/"
        },
        "id": "RVfZVfA2pcsB",
        "outputId": "7f83944c-1ff0-45e7-f957-348cb2e77b7b"
      },
      "source": [
        "print(f'zika DNA: {zika_DNA[:50]}')\n",
        "print(f'zika RNA: {zika_mRNA[:50]}')"
      ],
      "execution_count": 14,
      "outputs": [
        {
          "output_type": "stream",
          "text": [
            "zika DNA: AGTTGTTACTGTTGCTGACTCAGACTGCGACAGTTCGAGTTTGAAGCGAA\n",
            "zika RNA: AGUUGUUACUGUUGCUGACUCAGACUGCGACAGUUCGAGUUUGAAGCGAA\n"
          ],
          "name": "stdout"
        }
      ]
    },
    {
      "cell_type": "code",
      "metadata": {
        "colab": {
          "base_uri": "https://localhost:8080/"
        },
        "id": "Baqp-7Z-v2er",
        "outputId": "724b274e-7302-441b-edeb-f3ee7f9425d0"
      },
      "source": [
        "zika_aa = zika_mRNA.translate()\n",
        "print(zika_aa[:99])"
      ],
      "execution_count": 15,
      "outputs": [
        {
          "output_type": "stream",
          "text": [
            "SCYCC*LRLRQFEFEAKASNSINRFYFGFGNESFWS*KTQKRNPEDSGLSIC*NAE*PV*APLGA*RGCQPDFCWVMGPSGWSWRF*PF*DSRQSSHHW\n"
          ],
          "name": "stdout"
        }
      ]
    },
    {
      "cell_type": "code",
      "metadata": {
        "colab": {
          "base_uri": "https://localhost:8080/"
        },
        "id": "dHE-2RHpxIAy",
        "outputId": "3d42cc04-68ca-49c6-b2fc-52ee024eabbf"
      },
      "source": [
        "print(f\"zika's genome has {len(zika_aa)} amino acids\")"
      ],
      "execution_count": 16,
      "outputs": [
        {
          "output_type": "stream",
          "text": [
            "zika's genome has 3602 amino acids\n"
          ],
          "name": "stdout"
        }
      ]
    },
    {
      "cell_type": "code",
      "metadata": {
        "colab": {
          "base_uri": "https://localhost:8080/"
        },
        "id": "M2kczTvQxUeO",
        "outputId": "c99a0e37-4f4c-4ba1-9ef8-03230b785ea6"
      },
      "source": [
        "Proteins = zika_aa.split('*')\n",
        "Proteins[:5]"
      ],
      "execution_count": 17,
      "outputs": [
        {
          "output_type": "execute_result",
          "data": {
            "text/plain": [
              "[Seq('SCYCC'),\n",
              " Seq('LRLRQFEFEAKASNSINRFYFGFGNESFWS'),\n",
              " Seq('KTQKRNPEDSGLSIC'),\n",
              " Seq('NAE'),\n",
              " Seq('PV')]"
            ]
          },
          "metadata": {
            "tags": []
          },
          "execution_count": 17
        }
      ]
    },
    {
      "cell_type": "code",
      "metadata": {
        "id": "QcVKPH6b01bR"
      },
      "source": [
        "for i in Proteins[:]:\n",
        "    if len(i) < 50:\n",
        "        Proteins.remove(i)"
      ],
      "execution_count": 18,
      "outputs": []
    },
    {
      "cell_type": "code",
      "metadata": {
        "colab": {
          "base_uri": "https://localhost:8080/"
        },
        "id": "OtSi6H_Uo7ms",
        "outputId": "c39b5c80-f40e-446f-ed28-c6d3fc1e7b40"
      },
      "source": [
        "print(len(Proteins))"
      ],
      "execution_count": 20,
      "outputs": [
        {
          "output_type": "stream",
          "text": [
            "6\n"
          ],
          "name": "stdout"
        }
      ]
    },
    {
      "cell_type": "code",
      "metadata": {
        "id": "Maadq34tpYmk"
      },
      "source": [
        "proteinas=pd.DataFrame(Proteins)\n",
        "proteinas['amino acid sequence'] = proteinas[0].apply(str)\n",
        "proteinas['Protein length'] = proteinas[0].apply(len)\n",
        "proteinas.rename(columns={0: \"sequence\"}, inplace=True)\n",
        "pro=proteinas.drop('sequence', axis=1)\n",
        "pro= pro.sort_values(by=['Protein length'], ascending=False)"
      ],
      "execution_count": 21,
      "outputs": []
    },
    {
      "cell_type": "code",
      "metadata": {
        "colab": {
          "base_uri": "https://localhost:8080/",
          "height": 181
        },
        "id": "1iJ4ODZipr6X",
        "outputId": "ded1fcbb-40f9-4553-e38a-0490c3cf1a37"
      },
      "source": [
        "import seaborn as sns\n",
        "\n",
        "cm = sns.light_palette(\"green\", as_cmap=True)\n",
        "\n",
        "s = pro.style.background_gradient(cmap=cm)\n",
        "s"
      ],
      "execution_count": 22,
      "outputs": [
        {
          "output_type": "execute_result",
          "data": {
            "text/html": [
              "<style  type=\"text/css\" >\n",
              "#T_98105438_3454_11eb_b4b0_0242ac1c0002row0_col1{\n",
              "            background-color:  #008000;\n",
              "            color:  #f1f1f1;\n",
              "        }#T_98105438_3454_11eb_b4b0_0242ac1c0002row1_col1{\n",
              "            background-color:  #c1dfc1;\n",
              "            color:  #000000;\n",
              "        }#T_98105438_3454_11eb_b4b0_0242ac1c0002row2_col1{\n",
              "            background-color:  #d2e7d2;\n",
              "            color:  #000000;\n",
              "        }#T_98105438_3454_11eb_b4b0_0242ac1c0002row3_col1{\n",
              "            background-color:  #daebda;\n",
              "            color:  #000000;\n",
              "        }#T_98105438_3454_11eb_b4b0_0242ac1c0002row4_col1{\n",
              "            background-color:  #e2efe2;\n",
              "            color:  #000000;\n",
              "        }#T_98105438_3454_11eb_b4b0_0242ac1c0002row5_col1{\n",
              "            background-color:  #ebf3eb;\n",
              "            color:  #000000;\n",
              "        }</style><table id=\"T_98105438_3454_11eb_b4b0_0242ac1c0002\" ><thead>    <tr>        <th class=\"blank level0\" ></th>        <th class=\"col_heading level0 col0\" >amino acid sequence</th>        <th class=\"col_heading level0 col1\" >Protein length</th>    </tr></thead><tbody>\n",
              "                <tr>\n",
              "                        <th id=\"T_98105438_3454_11eb_b4b0_0242ac1c0002level0_row0\" class=\"row_heading level0 row0\" >2</th>\n",
              "                        <td id=\"T_98105438_3454_11eb_b4b0_0242ac1c0002row0_col0\" class=\"data row0 col0\" >SSYPQPSLLMWGARWTSQRRRRDVVQGCSSITTLKPGGTGTSTILTPPVDWQQQSSKPGKMVSAGSPLFQEWKTSCGDQ</td>\n",
              "                        <td id=\"T_98105438_3454_11eb_b4b0_0242ac1c0002row0_col1\" class=\"data row0 col1\" >79</td>\n",
              "            </tr>\n",
              "            <tr>\n",
              "                        <th id=\"T_98105438_3454_11eb_b4b0_0242ac1c0002level0_row1\" class=\"row_heading level0 row1\" >1</th>\n",
              "                        <td id=\"T_98105438_3454_11eb_b4b0_0242ac1c0002row1_col0\" class=\"data row1 col0\" >EVPREWQSWETQPGTLDQLEALSTHWARASIKFLEQLSNHCLEECPGSHKFSLERC</td>\n",
              "                        <td id=\"T_98105438_3454_11eb_b4b0_0242ac1c0002row1_col1\" class=\"data row1 col1\" >56</td>\n",
              "            </tr>\n",
              "            <tr>\n",
              "                        <th id=\"T_98105438_3454_11eb_b4b0_0242ac1c0002level0_row2\" class=\"row_heading level0 row2\" >3</th>\n",
              "                        <td id=\"T_98105438_3454_11eb_b4b0_0242ac1c0002row2_col0\" class=\"data row2 col0\" >MPPGTGTARCSSWPCPPERERGTSRLCPEYLRQRMGTLERLRWITQQELQDLQS</td>\n",
              "                        <td id=\"T_98105438_3454_11eb_b4b0_0242ac1c0002row2_col1\" class=\"data row2 col1\" >54</td>\n",
              "            </tr>\n",
              "            <tr>\n",
              "                        <th id=\"T_98105438_3454_11eb_b4b0_0242ac1c0002level0_row3\" class=\"row_heading level0 row3\" >4</th>\n",
              "                        <td id=\"T_98105438_3454_11eb_b4b0_0242ac1c0002row3_col0\" class=\"data row3 col0\" >LLGPAHGSCGSRKLSQPELHVSSLLCSYCWWCSYLSQKSKDLPRTTKWQSSSW</td>\n",
              "                        <td id=\"T_98105438_3454_11eb_b4b0_0242ac1c0002row3_col1\" class=\"data row3 col1\" >53</td>\n",
              "            </tr>\n",
              "            <tr>\n",
              "                        <th id=\"T_98105438_3454_11eb_b4b0_0242ac1c0002level0_row4\" class=\"row_heading level0 row4\" >5</th>\n",
              "                        <td id=\"T_98105438_3454_11eb_b4b0_0242ac1c0002row4_col0\" class=\"data row4 col0\" >MIWEKLGRTHKSGNPQLDGTTGKKFRFAPTTSTSSISRTGGPLWFPAATKMN</td>\n",
              "                        <td id=\"T_98105438_3454_11eb_b4b0_0242ac1c0002row4_col1\" class=\"data row4 col1\" >52</td>\n",
              "            </tr>\n",
              "            <tr>\n",
              "                        <th id=\"T_98105438_3454_11eb_b4b0_0242ac1c0002level0_row5\" class=\"row_heading level0 row5\" >0</th>\n",
              "                        <td id=\"T_98105438_3454_11eb_b4b0_0242ac1c0002row5_col0\" class=\"data row5 col0\" >RACHTPCVPQRSHSPRSRLKHCTGQSQWRYSTQGQMDLARFQLRWRWTCKL</td>\n",
              "                        <td id=\"T_98105438_3454_11eb_b4b0_0242ac1c0002row5_col1\" class=\"data row5 col1\" >51</td>\n",
              "            </tr>\n",
              "    </tbody></table>"
            ],
            "text/plain": [
              "<pandas.io.formats.style.Styler at 0x7fb9a4a717b8>"
            ]
          },
          "metadata": {
            "tags": []
          },
          "execution_count": 22
        }
      ]
    }
  ]
}